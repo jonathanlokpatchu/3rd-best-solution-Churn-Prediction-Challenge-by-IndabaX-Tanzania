{
  "cells": [
    {
      "cell_type": "code",
      "source": [
        "from google.colab import drive\n",
        "drive.mount('/content/drive')"
      ],
      "metadata": {
        "colab": {
          "base_uri": "https://localhost:8080/"
        },
        "id": "W99cM_o0qelQ",
        "outputId": "ce9fb3e4-0fb0-4c12-cacd-c3d2b77ecece"
      },
      "execution_count": 75,
      "outputs": [
        {
          "output_type": "stream",
          "name": "stdout",
          "text": [
            "Drive already mounted at /content/drive; to attempt to forcibly remount, call drive.mount(\"/content/drive\", force_remount=True).\n"
          ]
        }
      ]
    },
    {
      "cell_type": "code",
      "source": [
        "#Importing Libraries\n",
        "import pandas as pd\n",
        "import numpy as np\n",
        "import matplotlib.pyplot as plt\n",
        "\n",
        "# Import data\n",
        "train_data = pd.read_csv('/content/drive/MyDrive/Churn Prediction Challenge by IndabaX Tanzania/Train.csv')\n",
        "test_data = pd.read_csv('/content/drive/MyDrive/Churn Prediction Challenge by IndabaX Tanzania/Test.csv')\n",
        "\n",
        "print('train data shape :', train_data.shape)\n",
        "print('test data shape :', test_data.shape)"
      ],
      "metadata": {
        "id": "M82Kl9nHnuBD",
        "colab": {
          "base_uri": "https://localhost:8080/"
        },
        "outputId": "6eec9773-9408-41eb-dcd4-8f7938f2b150"
      },
      "execution_count": 76,
      "outputs": [
        {
          "output_type": "stream",
          "name": "stdout",
          "text": [
            "train data shape : (1077024, 19)\n",
            "test data shape : (190063, 18)\n"
          ]
        }
      ]
    },
    {
      "cell_type": "code",
      "source": [
        "train_data.shape, test_data.shape"
      ],
      "metadata": {
        "colab": {
          "base_uri": "https://localhost:8080/"
        },
        "id": "kRoWynPaZjpt",
        "outputId": "10a15e14-80a6-422e-9712-32e7cf54c584"
      },
      "execution_count": 77,
      "outputs": [
        {
          "output_type": "execute_result",
          "data": {
            "text/plain": [
              "((1077024, 19), (190063, 18))"
            ]
          },
          "metadata": {},
          "execution_count": 77
        }
      ]
    },
    {
      "cell_type": "code",
      "source": [
        "# Inspect train Data\n",
        "train_data.head()"
      ],
      "metadata": {
        "id": "zKduXFXon5qY",
        "colab": {
          "base_uri": "https://localhost:8080/",
          "height": 374
        },
        "outputId": "c4ad8632-9952-4a8a-87cb-068eeeb6c6d8"
      },
      "execution_count": 79,
      "outputs": [
        {
          "output_type": "execute_result",
          "data": {
            "text/plain": [
              "                                    user_id       REGION        TENURE  \\\n",
              "0  7ee9e11e342e27c70455960acc80d3f91c1286d1        DAKAR  K > 24 month   \n",
              "1  50443f42bdc92b10388fc56e520e4421a5fa655c          NaN  K > 24 month   \n",
              "2  da90b5c1a9b204c186079f89969aa01cb03c91b2          NaN  K > 24 month   \n",
              "3  364ec1b424cdc64c25441a444a16930289a0051e  SAINT-LOUIS  K > 24 month   \n",
              "4  d5a5247005bc6d41d3d99f4ef312ebb5f640f2cb        DAKAR  K > 24 month   \n",
              "\n",
              "   MONTANT  FREQUENCE_RECH  REVENUE  ARPU_SEGMENT  FREQUENCE  DATA_VOLUME  \\\n",
              "0  20000.0            47.0  21602.0        7201.0       52.0       8835.0   \n",
              "1      NaN             NaN      NaN           NaN        NaN          NaN   \n",
              "2      NaN             NaN      NaN           NaN        NaN          NaN   \n",
              "3   7900.0            19.0   7896.0        2632.0       25.0       9385.0   \n",
              "4  12350.0            21.0  12351.0        4117.0       29.0       9360.0   \n",
              "\n",
              "   ON_NET  ORANGE   TIGO  ZONE1  ZONE2 MRG  REGULARITY  \\\n",
              "0  3391.0   396.0  185.0    NaN    NaN  NO          62   \n",
              "1     NaN     NaN    NaN    NaN    NaN  NO           3   \n",
              "2     NaN     NaN    NaN    NaN    NaN  NO           1   \n",
              "3    27.0    46.0   20.0    NaN    2.0  NO          61   \n",
              "4    66.0   102.0   34.0    NaN    NaN  NO          56   \n",
              "\n",
              "                         TOP_PACK  FREQ_TOP_PACK  CHURN  \n",
              "0  On net 200F=Unlimited _call24H           30.0      0  \n",
              "1                             NaN            NaN      0  \n",
              "2                             NaN            NaN      0  \n",
              "3                Data:490F=1GB,7d            7.0      0  \n",
              "4           All-net 500F=2000F;5d           11.0      0  "
            ],
            "text/html": [
              "\n",
              "  <div id=\"df-8fa80261-55ed-4583-8902-1e4c1c64a744\">\n",
              "    <div class=\"colab-df-container\">\n",
              "      <div>\n",
              "<style scoped>\n",
              "    .dataframe tbody tr th:only-of-type {\n",
              "        vertical-align: middle;\n",
              "    }\n",
              "\n",
              "    .dataframe tbody tr th {\n",
              "        vertical-align: top;\n",
              "    }\n",
              "\n",
              "    .dataframe thead th {\n",
              "        text-align: right;\n",
              "    }\n",
              "</style>\n",
              "<table border=\"1\" class=\"dataframe\">\n",
              "  <thead>\n",
              "    <tr style=\"text-align: right;\">\n",
              "      <th></th>\n",
              "      <th>user_id</th>\n",
              "      <th>REGION</th>\n",
              "      <th>TENURE</th>\n",
              "      <th>MONTANT</th>\n",
              "      <th>FREQUENCE_RECH</th>\n",
              "      <th>REVENUE</th>\n",
              "      <th>ARPU_SEGMENT</th>\n",
              "      <th>FREQUENCE</th>\n",
              "      <th>DATA_VOLUME</th>\n",
              "      <th>ON_NET</th>\n",
              "      <th>ORANGE</th>\n",
              "      <th>TIGO</th>\n",
              "      <th>ZONE1</th>\n",
              "      <th>ZONE2</th>\n",
              "      <th>MRG</th>\n",
              "      <th>REGULARITY</th>\n",
              "      <th>TOP_PACK</th>\n",
              "      <th>FREQ_TOP_PACK</th>\n",
              "      <th>CHURN</th>\n",
              "    </tr>\n",
              "  </thead>\n",
              "  <tbody>\n",
              "    <tr>\n",
              "      <th>0</th>\n",
              "      <td>7ee9e11e342e27c70455960acc80d3f91c1286d1</td>\n",
              "      <td>DAKAR</td>\n",
              "      <td>K &gt; 24 month</td>\n",
              "      <td>20000.0</td>\n",
              "      <td>47.0</td>\n",
              "      <td>21602.0</td>\n",
              "      <td>7201.0</td>\n",
              "      <td>52.0</td>\n",
              "      <td>8835.0</td>\n",
              "      <td>3391.0</td>\n",
              "      <td>396.0</td>\n",
              "      <td>185.0</td>\n",
              "      <td>NaN</td>\n",
              "      <td>NaN</td>\n",
              "      <td>NO</td>\n",
              "      <td>62</td>\n",
              "      <td>On net 200F=Unlimited _call24H</td>\n",
              "      <td>30.0</td>\n",
              "      <td>0</td>\n",
              "    </tr>\n",
              "    <tr>\n",
              "      <th>1</th>\n",
              "      <td>50443f42bdc92b10388fc56e520e4421a5fa655c</td>\n",
              "      <td>NaN</td>\n",
              "      <td>K &gt; 24 month</td>\n",
              "      <td>NaN</td>\n",
              "      <td>NaN</td>\n",
              "      <td>NaN</td>\n",
              "      <td>NaN</td>\n",
              "      <td>NaN</td>\n",
              "      <td>NaN</td>\n",
              "      <td>NaN</td>\n",
              "      <td>NaN</td>\n",
              "      <td>NaN</td>\n",
              "      <td>NaN</td>\n",
              "      <td>NaN</td>\n",
              "      <td>NO</td>\n",
              "      <td>3</td>\n",
              "      <td>NaN</td>\n",
              "      <td>NaN</td>\n",
              "      <td>0</td>\n",
              "    </tr>\n",
              "    <tr>\n",
              "      <th>2</th>\n",
              "      <td>da90b5c1a9b204c186079f89969aa01cb03c91b2</td>\n",
              "      <td>NaN</td>\n",
              "      <td>K &gt; 24 month</td>\n",
              "      <td>NaN</td>\n",
              "      <td>NaN</td>\n",
              "      <td>NaN</td>\n",
              "      <td>NaN</td>\n",
              "      <td>NaN</td>\n",
              "      <td>NaN</td>\n",
              "      <td>NaN</td>\n",
              "      <td>NaN</td>\n",
              "      <td>NaN</td>\n",
              "      <td>NaN</td>\n",
              "      <td>NaN</td>\n",
              "      <td>NO</td>\n",
              "      <td>1</td>\n",
              "      <td>NaN</td>\n",
              "      <td>NaN</td>\n",
              "      <td>0</td>\n",
              "    </tr>\n",
              "    <tr>\n",
              "      <th>3</th>\n",
              "      <td>364ec1b424cdc64c25441a444a16930289a0051e</td>\n",
              "      <td>SAINT-LOUIS</td>\n",
              "      <td>K &gt; 24 month</td>\n",
              "      <td>7900.0</td>\n",
              "      <td>19.0</td>\n",
              "      <td>7896.0</td>\n",
              "      <td>2632.0</td>\n",
              "      <td>25.0</td>\n",
              "      <td>9385.0</td>\n",
              "      <td>27.0</td>\n",
              "      <td>46.0</td>\n",
              "      <td>20.0</td>\n",
              "      <td>NaN</td>\n",
              "      <td>2.0</td>\n",
              "      <td>NO</td>\n",
              "      <td>61</td>\n",
              "      <td>Data:490F=1GB,7d</td>\n",
              "      <td>7.0</td>\n",
              "      <td>0</td>\n",
              "    </tr>\n",
              "    <tr>\n",
              "      <th>4</th>\n",
              "      <td>d5a5247005bc6d41d3d99f4ef312ebb5f640f2cb</td>\n",
              "      <td>DAKAR</td>\n",
              "      <td>K &gt; 24 month</td>\n",
              "      <td>12350.0</td>\n",
              "      <td>21.0</td>\n",
              "      <td>12351.0</td>\n",
              "      <td>4117.0</td>\n",
              "      <td>29.0</td>\n",
              "      <td>9360.0</td>\n",
              "      <td>66.0</td>\n",
              "      <td>102.0</td>\n",
              "      <td>34.0</td>\n",
              "      <td>NaN</td>\n",
              "      <td>NaN</td>\n",
              "      <td>NO</td>\n",
              "      <td>56</td>\n",
              "      <td>All-net 500F=2000F;5d</td>\n",
              "      <td>11.0</td>\n",
              "      <td>0</td>\n",
              "    </tr>\n",
              "  </tbody>\n",
              "</table>\n",
              "</div>\n",
              "      <button class=\"colab-df-convert\" onclick=\"convertToInteractive('df-8fa80261-55ed-4583-8902-1e4c1c64a744')\"\n",
              "              title=\"Convert this dataframe to an interactive table.\"\n",
              "              style=\"display:none;\">\n",
              "        \n",
              "  <svg xmlns=\"http://www.w3.org/2000/svg\" height=\"24px\"viewBox=\"0 0 24 24\"\n",
              "       width=\"24px\">\n",
              "    <path d=\"M0 0h24v24H0V0z\" fill=\"none\"/>\n",
              "    <path d=\"M18.56 5.44l.94 2.06.94-2.06 2.06-.94-2.06-.94-.94-2.06-.94 2.06-2.06.94zm-11 1L8.5 8.5l.94-2.06 2.06-.94-2.06-.94L8.5 2.5l-.94 2.06-2.06.94zm10 10l.94 2.06.94-2.06 2.06-.94-2.06-.94-.94-2.06-.94 2.06-2.06.94z\"/><path d=\"M17.41 7.96l-1.37-1.37c-.4-.4-.92-.59-1.43-.59-.52 0-1.04.2-1.43.59L10.3 9.45l-7.72 7.72c-.78.78-.78 2.05 0 2.83L4 21.41c.39.39.9.59 1.41.59.51 0 1.02-.2 1.41-.59l7.78-7.78 2.81-2.81c.8-.78.8-2.07 0-2.86zM5.41 20L4 18.59l7.72-7.72 1.47 1.35L5.41 20z\"/>\n",
              "  </svg>\n",
              "      </button>\n",
              "      \n",
              "  <style>\n",
              "    .colab-df-container {\n",
              "      display:flex;\n",
              "      flex-wrap:wrap;\n",
              "      gap: 12px;\n",
              "    }\n",
              "\n",
              "    .colab-df-convert {\n",
              "      background-color: #E8F0FE;\n",
              "      border: none;\n",
              "      border-radius: 50%;\n",
              "      cursor: pointer;\n",
              "      display: none;\n",
              "      fill: #1967D2;\n",
              "      height: 32px;\n",
              "      padding: 0 0 0 0;\n",
              "      width: 32px;\n",
              "    }\n",
              "\n",
              "    .colab-df-convert:hover {\n",
              "      background-color: #E2EBFA;\n",
              "      box-shadow: 0px 1px 2px rgba(60, 64, 67, 0.3), 0px 1px 3px 1px rgba(60, 64, 67, 0.15);\n",
              "      fill: #174EA6;\n",
              "    }\n",
              "\n",
              "    [theme=dark] .colab-df-convert {\n",
              "      background-color: #3B4455;\n",
              "      fill: #D2E3FC;\n",
              "    }\n",
              "\n",
              "    [theme=dark] .colab-df-convert:hover {\n",
              "      background-color: #434B5C;\n",
              "      box-shadow: 0px 1px 3px 1px rgba(0, 0, 0, 0.15);\n",
              "      filter: drop-shadow(0px 1px 2px rgba(0, 0, 0, 0.3));\n",
              "      fill: #FFFFFF;\n",
              "    }\n",
              "  </style>\n",
              "\n",
              "      <script>\n",
              "        const buttonEl =\n",
              "          document.querySelector('#df-8fa80261-55ed-4583-8902-1e4c1c64a744 button.colab-df-convert');\n",
              "        buttonEl.style.display =\n",
              "          google.colab.kernel.accessAllowed ? 'block' : 'none';\n",
              "\n",
              "        async function convertToInteractive(key) {\n",
              "          const element = document.querySelector('#df-8fa80261-55ed-4583-8902-1e4c1c64a744');\n",
              "          const dataTable =\n",
              "            await google.colab.kernel.invokeFunction('convertToInteractive',\n",
              "                                                     [key], {});\n",
              "          if (!dataTable) return;\n",
              "\n",
              "          const docLinkHtml = 'Like what you see? Visit the ' +\n",
              "            '<a target=\"_blank\" href=https://colab.research.google.com/notebooks/data_table.ipynb>data table notebook</a>'\n",
              "            + ' to learn more about interactive tables.';\n",
              "          element.innerHTML = '';\n",
              "          dataTable['output_type'] = 'display_data';\n",
              "          await google.colab.output.renderOutput(dataTable, element);\n",
              "          const docLink = document.createElement('div');\n",
              "          docLink.innerHTML = docLinkHtml;\n",
              "          element.appendChild(docLink);\n",
              "        }\n",
              "      </script>\n",
              "    </div>\n",
              "  </div>\n",
              "  "
            ]
          },
          "metadata": {},
          "execution_count": 79
        }
      ]
    },
    {
      "cell_type": "code",
      "source": [
        "print(train_data.describe())\n",
        "print(train_data.info())"
      ],
      "metadata": {
        "id": "TjptbZPun7tM",
        "colab": {
          "base_uri": "https://localhost:8080/"
        },
        "outputId": "69bcd3d8-41ec-4c4b-b7f4-34c57f3ea131"
      },
      "execution_count": 80,
      "outputs": [
        {
          "output_type": "stream",
          "name": "stdout",
          "text": [
            "             MONTANT  FREQUENCE_RECH        REVENUE   ARPU_SEGMENT  \\\n",
            "count  699139.000000   699139.000000  714669.000000  714669.000000   \n",
            "mean     5529.210895       11.523756    5506.050798    1835.355961   \n",
            "std      7104.737952       13.261938    7175.625010    2391.870902   \n",
            "min        20.000000        1.000000       1.000000       0.000000   \n",
            "25%      1000.000000        2.000000    1000.000000     333.000000   \n",
            "50%      3000.000000        7.000000    3000.000000    1000.000000   \n",
            "75%      7350.000000       16.000000    7360.000000    2453.000000   \n",
            "max    470000.000000      131.000000  532177.000000  177392.000000   \n",
            "\n",
            "           FREQUENCE   DATA_VOLUME         ON_NET         ORANGE  \\\n",
            "count  714669.000000  5.472610e+05  683850.000000  629880.000000   \n",
            "mean       13.974439  3.368802e+03     277.065798      95.160804   \n",
            "std        14.687059  1.289893e+04     874.315378     203.020261   \n",
            "min         1.000000  0.000000e+00       0.000000       0.000000   \n",
            "25%         3.000000  0.000000e+00       5.000000       7.000000   \n",
            "50%         9.000000  2.580000e+02      27.000000      29.000000   \n",
            "75%        20.000000  2.905000e+03     156.000000      99.000000   \n",
            "max        91.000000  1.702309e+06   50809.000000   12040.000000   \n",
            "\n",
            "                TIGO         ZONE1         ZONE2    REGULARITY  FREQ_TOP_PACK  \\\n",
            "count  432250.000000  84898.000000  68794.000000  1.077024e+06  626129.000000   \n",
            "mean       23.105018      8.167483      7.709844  2.804450e+01       9.262446   \n",
            "std        64.035464     39.245883     36.090513  2.228861e+01      12.242316   \n",
            "min         0.000000      0.000000      0.000000  1.000000e+00       1.000000   \n",
            "25%         2.000000      0.000000      0.000000  6.000000e+00       2.000000   \n",
            "50%         6.000000      1.000000      2.000000  2.400000e+01       5.000000   \n",
            "75%        20.000000      3.000000      5.000000  5.100000e+01      12.000000   \n",
            "max      4174.000000   2507.000000   3697.000000  6.200000e+01     624.000000   \n",
            "\n",
            "              CHURN  \n",
            "count  1.077024e+06  \n",
            "mean   1.875474e-01  \n",
            "std    3.903505e-01  \n",
            "min    0.000000e+00  \n",
            "25%    0.000000e+00  \n",
            "50%    0.000000e+00  \n",
            "75%    0.000000e+00  \n",
            "max    1.000000e+00  \n",
            "<class 'pandas.core.frame.DataFrame'>\n",
            "RangeIndex: 1077024 entries, 0 to 1077023\n",
            "Data columns (total 19 columns):\n",
            " #   Column          Non-Null Count    Dtype  \n",
            "---  ------          --------------    -----  \n",
            " 0   user_id         1077024 non-null  object \n",
            " 1   REGION          652687 non-null   object \n",
            " 2   TENURE          1077024 non-null  object \n",
            " 3   MONTANT         699139 non-null   float64\n",
            " 4   FREQUENCE_RECH  699139 non-null   float64\n",
            " 5   REVENUE         714669 non-null   float64\n",
            " 6   ARPU_SEGMENT    714669 non-null   float64\n",
            " 7   FREQUENCE       714669 non-null   float64\n",
            " 8   DATA_VOLUME     547261 non-null   float64\n",
            " 9   ON_NET          683850 non-null   float64\n",
            " 10  ORANGE          629880 non-null   float64\n",
            " 11  TIGO            432250 non-null   float64\n",
            " 12  ZONE1           84898 non-null    float64\n",
            " 13  ZONE2           68794 non-null    float64\n",
            " 14  MRG             1077024 non-null  object \n",
            " 15  REGULARITY      1077024 non-null  int64  \n",
            " 16  TOP_PACK        626129 non-null   object \n",
            " 17  FREQ_TOP_PACK   626129 non-null   float64\n",
            " 18  CHURN           1077024 non-null  int64  \n",
            "dtypes: float64(12), int64(2), object(5)\n",
            "memory usage: 156.1+ MB\n",
            "None\n"
          ]
        }
      ]
    },
    {
      "cell_type": "code",
      "source": [
        "# Check for missing values\n",
        "print('missing values:', train_data.isnull().sum())"
      ],
      "metadata": {
        "id": "9tNYgipRoB2j",
        "colab": {
          "base_uri": "https://localhost:8080/"
        },
        "outputId": "73591b3c-3d2d-4d56-95ea-3be5c38fef98"
      },
      "execution_count": 81,
      "outputs": [
        {
          "output_type": "stream",
          "name": "stdout",
          "text": [
            "missing values: user_id                 0\n",
            "REGION             424337\n",
            "TENURE                  0\n",
            "MONTANT            377885\n",
            "FREQUENCE_RECH     377885\n",
            "REVENUE            362355\n",
            "ARPU_SEGMENT       362355\n",
            "FREQUENCE          362355\n",
            "DATA_VOLUME        529763\n",
            "ON_NET             393174\n",
            "ORANGE             447144\n",
            "TIGO               644774\n",
            "ZONE1              992126\n",
            "ZONE2             1008230\n",
            "MRG                     0\n",
            "REGULARITY              0\n",
            "TOP_PACK           450895\n",
            "FREQ_TOP_PACK      450895\n",
            "CHURN                   0\n",
            "dtype: int64\n"
          ]
        }
      ]
    },
    {
      "cell_type": "code",
      "source": [
        "#Encode the TENURE column\n",
        "from sklearn.preprocessing import LabelEncoder\n",
        "encoder = LabelEncoder()\n",
        "train_data[\"TENURE\"] = encoder.fit_transform(train_data[\"TENURE\"])\n",
        "test_data[\"TENURE\"] = encoder.transform(test_data[\"TENURE\"])"
      ],
      "metadata": {
        "id": "6hTLM-kStBSe"
      },
      "execution_count": 82,
      "outputs": []
    },
    {
      "cell_type": "code",
      "source": [
        "#Fill Nan for Train\n",
        "\n",
        "train_data['MONTANT'].fillna((train_data['MONTANT'].mean()), inplace=True)\n",
        "train_data['FREQUENCE_RECH'].fillna((train_data['FREQUENCE_RECH'].mean()), inplace=True)\n",
        "train_data['REVENUE'].fillna((train_data['REVENUE'].mean()), inplace=True)\n",
        "train_data['ARPU_SEGMENT'].fillna((train_data['ARPU_SEGMENT'].mean()), inplace=True)\n",
        "train_data['FREQUENCE'].fillna((train_data['FREQUENCE'].mean()), inplace=True)\n",
        "train_data['DATA_VOLUME'].fillna((train_data['DATA_VOLUME'].mean()), inplace=True)\n",
        "train_data['ON_NET'].fillna((train_data['ON_NET'].mean()), inplace=True)\n",
        "train_data['ORANGE'].fillna((train_data['ORANGE'].mean()), inplace=True)\n",
        "train_data['TIGO'].fillna((train_data['TIGO'].mean()), inplace=True)\n",
        "train_data['ZONE1'].fillna((train_data['ZONE1'].mean()), inplace=True)\n",
        "train_data['ZONE2'].fillna((train_data['ZONE2'].mean()), inplace=True)\n",
        "train_data['FREQ_TOP_PACK'].fillna((train_data['FREQ_TOP_PACK'].mean()), inplace=True)\n"
      ],
      "metadata": {
        "id": "fVILdEGcoE-n"
      },
      "execution_count": 83,
      "outputs": []
    },
    {
      "cell_type": "code",
      "source": [
        "#Fill Nan for Test\n",
        "\n",
        "test_data['MONTANT'].fillna((test_data['MONTANT'].mean()), inplace=True)\n",
        "test_data['FREQUENCE_RECH'].fillna((test_data['FREQUENCE_RECH'].mean()), inplace=True)\n",
        "test_data['REVENUE'].fillna((test_data['REVENUE'].mean()), inplace=True)\n",
        "test_data['ARPU_SEGMENT'].fillna((test_data['ARPU_SEGMENT'].mean()), inplace=True)\n",
        "test_data['FREQUENCE'].fillna((test_data['FREQUENCE'].mean()), inplace=True)\n",
        "test_data['DATA_VOLUME'].fillna((test_data['DATA_VOLUME'].mean()), inplace=True)\n",
        "test_data['ON_NET'].fillna((test_data['ON_NET'].mean()), inplace=True)\n",
        "test_data['ORANGE'].fillna((test_data['ORANGE'].mean()), inplace=True)\n",
        "test_data['TIGO'].fillna((test_data['TIGO'].mean()), inplace=True)\n",
        "test_data['ZONE1'].fillna((test_data['ZONE1'].mean()), inplace=True)\n",
        "test_data['ZONE2'].fillna((test_data['ZONE2'].mean()), inplace=True)\n",
        "test_data['FREQ_TOP_PACK'].fillna((test_data['FREQ_TOP_PACK'].mean()), inplace=True)\n",
        "test_data['TOP_PACK'].fillna((test_data['FREQ_TOP_PACK'].mean()), inplace=True)"
      ],
      "metadata": {
        "id": "W_ZUO66vowfX"
      },
      "execution_count": 84,
      "outputs": []
    },
    {
      "cell_type": "code",
      "source": [
        "# Check for missing values\n",
        "print('missing values:', train_data.isnull().sum())"
      ],
      "metadata": {
        "id": "pcpT8UtppNQ_",
        "colab": {
          "base_uri": "https://localhost:8080/"
        },
        "outputId": "cecdc4a0-8c79-41f2-bc59-6a569e3fae59"
      },
      "execution_count": 85,
      "outputs": [
        {
          "output_type": "stream",
          "name": "stdout",
          "text": [
            "missing values: user_id                0\n",
            "REGION            424337\n",
            "TENURE                 0\n",
            "MONTANT                0\n",
            "FREQUENCE_RECH         0\n",
            "REVENUE                0\n",
            "ARPU_SEGMENT           0\n",
            "FREQUENCE              0\n",
            "DATA_VOLUME            0\n",
            "ON_NET                 0\n",
            "ORANGE                 0\n",
            "TIGO                   0\n",
            "ZONE1                  0\n",
            "ZONE2                  0\n",
            "MRG                    0\n",
            "REGULARITY             0\n",
            "TOP_PACK          450895\n",
            "FREQ_TOP_PACK          0\n",
            "CHURN                  0\n",
            "dtype: int64\n"
          ]
        }
      ]
    },
    {
      "cell_type": "code",
      "source": [
        "# Check for missing values\n",
        "print('missing values:', test_data.isnull().sum())"
      ],
      "metadata": {
        "id": "mbY3qsARpQZB",
        "colab": {
          "base_uri": "https://localhost:8080/"
        },
        "outputId": "e7fde445-aaea-4f87-adfb-3ed404a455a8"
      },
      "execution_count": 86,
      "outputs": [
        {
          "output_type": "stream",
          "name": "stdout",
          "text": [
            "missing values: user_id               0\n",
            "REGION            74733\n",
            "TENURE                0\n",
            "MONTANT               0\n",
            "FREQUENCE_RECH        0\n",
            "REVENUE               0\n",
            "ARPU_SEGMENT          0\n",
            "FREQUENCE             0\n",
            "DATA_VOLUME           0\n",
            "ON_NET                0\n",
            "ORANGE                0\n",
            "TIGO                  0\n",
            "ZONE1                 0\n",
            "ZONE2                 0\n",
            "MRG                   0\n",
            "REGULARITY            0\n",
            "TOP_PACK              0\n",
            "FREQ_TOP_PACK         0\n",
            "dtype: int64\n"
          ]
        }
      ]
    },
    {
      "cell_type": "code",
      "source": [
        "#Drop columns\n",
        "test_data.drop(columns=['REGION', 'MRG', 'TOP_PACK'], inplace=True)\n",
        "train_data.drop(columns=['REGION', 'MRG', 'TOP_PACK'], inplace=True)"
      ],
      "metadata": {
        "id": "8t9o116epmY7"
      },
      "execution_count": 87,
      "outputs": []
    },
    {
      "cell_type": "code",
      "source": [
        "# Target distribution\n",
        "train_data.CHURN.value_counts().plot(kind='bar')"
      ],
      "metadata": {
        "id": "Bm-ZexVHqdrb",
        "colab": {
          "base_uri": "https://localhost:8080/",
          "height": 279
        },
        "outputId": "b3e6824f-61c0-424e-f629-b8693150c131"
      },
      "execution_count": 88,
      "outputs": [
        {
          "output_type": "execute_result",
          "data": {
            "text/plain": [
              "<matplotlib.axes._subplots.AxesSubplot at 0x7f8df4140580>"
            ]
          },
          "metadata": {},
          "execution_count": 88
        },
        {
          "output_type": "display_data",
          "data": {
            "text/plain": [
              "<Figure size 432x288 with 1 Axes>"
            ],
            "image/png": "[encoded data removed]"
          },
          "metadata": {
            "needs_background": "light"
          }
        }
      ]
    },
    {
      "cell_type": "code",
      "source": [
        "#Separate training features from target\n",
        "dropcols = ['user_id', 'CHURN']\n",
        "X_train = train_data.drop(columns=dropcols, axis=1)\n",
        "y_train = train_data['CHURN']\n",
        "\n",
        "X_test = test_data.drop(['user_id'], axis=1)\n",
        "test = test_data.drop(columns=['user_id'], axis=1) #you will use this for predicting and submitting the resulting\n"
      ],
      "metadata": {
        "id": "KpvZ-cguVeB1"
      },
      "execution_count": 89,
      "outputs": []
    },
    {
      "cell_type": "code",
      "source": [
        "#Encode the TENURE column\n",
        "from sklearn.preprocessing import LabelEncoder\n",
        "\n",
        "encoder = LabelEncoder()\n",
        "X_train[\"TENURE\"] = encoder.fit_transform(X_train[\"TENURE\"])\n",
        "\n",
        "X_test[\"TENURE\"] = encoder.transform(X_test[\"TENURE\"])\n",
        "\n",
        "test['TENURE'] = encoder.transform(test[\"TENURE\"])"
      ],
      "metadata": {
        "id": "NBPG8eecxEG0"
      },
      "execution_count": 90,
      "outputs": []
    },
    {
      "cell_type": "code",
      "source": [
        "#rescale X_train and X_test\n",
        "# import MinMaxScaler\n",
        "from sklearn.preprocessing import MinMaxScaler\n",
        "\n",
        "scaler = MinMaxScaler(feature_range=(0, 1))\n",
        "X_train_rescaled = scaler.fit_transform(X_train)\n",
        "X_test_rescaled = scaler.fit_transform(X_test)"
      ],
      "metadata": {
        "id": "sIbMWmqavnUP"
      },
      "execution_count": 91,
      "outputs": []
    },
    {
      "cell_type": "code",
      "source": [
        "train_data.head()"
      ],
      "metadata": {
        "id": "yJlM02PzxepA",
        "colab": {
          "base_uri": "https://localhost:8080/",
          "height": 270
        },
        "outputId": "bef56360-06bf-49ad-a062-11029a72e6de"
      },
      "execution_count": 92,
      "outputs": [
        {
          "output_type": "execute_result",
          "data": {
            "text/plain": [
              "                                    user_id  TENURE       MONTANT  \\\n",
              "0  7ee9e11e342e27c70455960acc80d3f91c1286d1       7  20000.000000   \n",
              "1  50443f42bdc92b10388fc56e520e4421a5fa655c       7   5529.210895   \n",
              "2  da90b5c1a9b204c186079f89969aa01cb03c91b2       7   5529.210895   \n",
              "3  364ec1b424cdc64c25441a444a16930289a0051e       7   7900.000000   \n",
              "4  d5a5247005bc6d41d3d99f4ef312ebb5f640f2cb       7  12350.000000   \n",
              "\n",
              "   FREQUENCE_RECH       REVENUE  ARPU_SEGMENT  FREQUENCE  DATA_VOLUME  \\\n",
              "0       47.000000  21602.000000   7201.000000  52.000000  8835.000000   \n",
              "1       11.523756   5506.050798   1835.355961  13.974439  3368.801722   \n",
              "2       11.523756   5506.050798   1835.355961  13.974439  3368.801722   \n",
              "3       19.000000   7896.000000   2632.000000  25.000000  9385.000000   \n",
              "4       21.000000  12351.000000   4117.000000  29.000000  9360.000000   \n",
              "\n",
              "        ON_NET      ORANGE        TIGO     ZONE1     ZONE2  REGULARITY  \\\n",
              "0  3391.000000  396.000000  185.000000  8.167483  7.709844          62   \n",
              "1   277.065798   95.160804   23.105018  8.167483  7.709844           3   \n",
              "2   277.065798   95.160804   23.105018  8.167483  7.709844           1   \n",
              "3    27.000000   46.000000   20.000000  8.167483  2.000000          61   \n",
              "4    66.000000  102.000000   34.000000  8.167483  7.709844          56   \n",
              "\n",
              "   FREQ_TOP_PACK  CHURN  \n",
              "0      30.000000      0  \n",
              "1       9.262446      0  \n",
              "2       9.262446      0  \n",
              "3       7.000000      0  \n",
              "4      11.000000      0  "
            ],
            "text/html": [
              "\n",
              "  <div id=\"df-18c810a9-9f6d-4f36-a80b-6aad72ec696e\">\n",
              "    <div class=\"colab-df-container\">\n",
              "      <div>\n",
              "<style scoped>\n",
              "    .dataframe tbody tr th:only-of-type {\n",
              "        vertical-align: middle;\n",
              "    }\n",
              "\n",
              "    .dataframe tbody tr th {\n",
              "        vertical-align: top;\n",
              "    }\n",
              "\n",
              "    .dataframe thead th {\n",
              "        text-align: right;\n",
              "    }\n",
              "</style>\n",
              "<table border=\"1\" class=\"dataframe\">\n",
              "  <thead>\n",
              "    <tr style=\"text-align: right;\">\n",
              "      <th></th>\n",
              "      <th>user_id</th>\n",
              "      <th>TENURE</th>\n",
              "      <th>MONTANT</th>\n",
              "      <th>FREQUENCE_RECH</th>\n",
              "      <th>REVENUE</th>\n",
              "      <th>ARPU_SEGMENT</th>\n",
              "      <th>FREQUENCE</th>\n",
              "      <th>DATA_VOLUME</th>\n",
              "      <th>ON_NET</th>\n",
              "      <th>ORANGE</th>\n",
              "      <th>TIGO</th>\n",
              "      <th>ZONE1</th>\n",
              "      <th>ZONE2</th>\n",
              "      <th>REGULARITY</th>\n",
              "      <th>FREQ_TOP_PACK</th>\n",
              "      <th>CHURN</th>\n",
              "    </tr>\n",
              "  </thead>\n",
              "  <tbody>\n",
              "    <tr>\n",
              "      <th>0</th>\n",
              "      <td>7ee9e11e342e27c70455960acc80d3f91c1286d1</td>\n",
              "      <td>7</td>\n",
              "      <td>20000.000000</td>\n",
              "      <td>47.000000</td>\n",
              "      <td>21602.000000</td>\n",
              "      <td>7201.000000</td>\n",
              "      <td>52.000000</td>\n",
              "      <td>8835.000000</td>\n",
              "      <td>3391.000000</td>\n",
              "      <td>396.000000</td>\n",
              "      <td>185.000000</td>\n",
              "      <td>8.167483</td>\n",
              "      <td>7.709844</td>\n",
              "      <td>62</td>\n",
              "      <td>30.000000</td>\n",
              "      <td>0</td>\n",
              "    </tr>\n",
              "    <tr>\n",
              "      <th>1</th>\n",
              "      <td>50443f42bdc92b10388fc56e520e4421a5fa655c</td>\n",
              "      <td>7</td>\n",
              "      <td>5529.210895</td>\n",
              "      <td>11.523756</td>\n",
              "      <td>5506.050798</td>\n",
              "      <td>1835.355961</td>\n",
              "      <td>13.974439</td>\n",
              "      <td>3368.801722</td>\n",
              "      <td>277.065798</td>\n",
              "      <td>95.160804</td>\n",
              "      <td>23.105018</td>\n",
              "      <td>8.167483</td>\n",
              "      <td>7.709844</td>\n",
              "      <td>3</td>\n",
              "      <td>9.262446</td>\n",
              "      <td>0</td>\n",
              "    </tr>\n",
              "    <tr>\n",
              "      <th>2</th>\n",
              "      <td>da90b5c1a9b204c186079f89969aa01cb03c91b2</td>\n",
              "      <td>7</td>\n",
              "      <td>5529.210895</td>\n",
              "      <td>11.523756</td>\n",
              "      <td>5506.050798</td>\n",
              "      <td>1835.355961</td>\n",
              "      <td>13.974439</td>\n",
              "      <td>3368.801722</td>\n",
              "      <td>277.065798</td>\n",
              "      <td>95.160804</td>\n",
              "      <td>23.105018</td>\n",
              "      <td>8.167483</td>\n",
              "      <td>7.709844</td>\n",
              "      <td>1</td>\n",
              "      <td>9.262446</td>\n",
              "      <td>0</td>\n",
              "    </tr>\n",
              "    <tr>\n",
              "      <th>3</th>\n",
              "      <td>364ec1b424cdc64c25441a444a16930289a0051e</td>\n",
              "      <td>7</td>\n",
              "      <td>7900.000000</td>\n",
              "      <td>19.000000</td>\n",
              "      <td>7896.000000</td>\n",
              "      <td>2632.000000</td>\n",
              "      <td>25.000000</td>\n",
              "      <td>9385.000000</td>\n",
              "      <td>27.000000</td>\n",
              "      <td>46.000000</td>\n",
              "      <td>20.000000</td>\n",
              "      <td>8.167483</td>\n",
              "      <td>2.000000</td>\n",
              "      <td>61</td>\n",
              "      <td>7.000000</td>\n",
              "      <td>0</td>\n",
              "    </tr>\n",
              "    <tr>\n",
              "      <th>4</th>\n",
              "      <td>d5a5247005bc6d41d3d99f4ef312ebb5f640f2cb</td>\n",
              "      <td>7</td>\n",
              "      <td>12350.000000</td>\n",
              "      <td>21.000000</td>\n",
              "      <td>12351.000000</td>\n",
              "      <td>4117.000000</td>\n",
              "      <td>29.000000</td>\n",
              "      <td>9360.000000</td>\n",
              "      <td>66.000000</td>\n",
              "      <td>102.000000</td>\n",
              "      <td>34.000000</td>\n",
              "      <td>8.167483</td>\n",
              "      <td>7.709844</td>\n",
              "      <td>56</td>\n",
              "      <td>11.000000</td>\n",
              "      <td>0</td>\n",
              "    </tr>\n",
              "  </tbody>\n",
              "</table>\n",
              "</div>\n",
              "      <button class=\"colab-df-convert\" onclick=\"convertToInteractive('df-18c810a9-9f6d-4f36-a80b-6aad72ec696e')\"\n",
              "              title=\"Convert this dataframe to an interactive table.\"\n",
              "              style=\"display:none;\">\n",
              "        \n",
              "  <svg xmlns=\"http://www.w3.org/2000/svg\" height=\"24px\"viewBox=\"0 0 24 24\"\n",
              "       width=\"24px\">\n",
              "    <path d=\"M0 0h24v24H0V0z\" fill=\"none\"/>\n",
              "    <path d=\"M18.56 5.44l.94 2.06.94-2.06 2.06-.94-2.06-.94-.94-2.06-.94 2.06-2.06.94zm-11 1L8.5 8.5l.94-2.06 2.06-.94-2.06-.94L8.5 2.5l-.94 2.06-2.06.94zm10 10l.94 2.06.94-2.06 2.06-.94-2.06-.94-.94-2.06-.94 2.06-2.06.94z\"/><path d=\"M17.41 7.96l-1.37-1.37c-.4-.4-.92-.59-1.43-.59-.52 0-1.04.2-1.43.59L10.3 9.45l-7.72 7.72c-.78.78-.78 2.05 0 2.83L4 21.41c.39.39.9.59 1.41.59.51 0 1.02-.2 1.41-.59l7.78-7.78 2.81-2.81c.8-.78.8-2.07 0-2.86zM5.41 20L4 18.59l7.72-7.72 1.47 1.35L5.41 20z\"/>\n",
              "  </svg>\n",
              "      </button>\n",
              "      \n",
              "  <style>\n",
              "    .colab-df-container {\n",
              "      display:flex;\n",
              "      flex-wrap:wrap;\n",
              "      gap: 12px;\n",
              "    }\n",
              "\n",
              "    .colab-df-convert {\n",
              "      background-color: #E8F0FE;\n",
              "      border: none;\n",
              "      border-radius: 50%;\n",
              "      cursor: pointer;\n",
              "      display: none;\n",
              "      fill: #1967D2;\n",
              "      height: 32px;\n",
              "      padding: 0 0 0 0;\n",
              "      width: 32px;\n",
              "    }\n",
              "\n",
              "    .colab-df-convert:hover {\n",
              "      background-color: #E2EBFA;\n",
              "      box-shadow: 0px 1px 2px rgba(60, 64, 67, 0.3), 0px 1px 3px 1px rgba(60, 64, 67, 0.15);\n",
              "      fill: #174EA6;\n",
              "    }\n",
              "\n",
              "    [theme=dark] .colab-df-convert {\n",
              "      background-color: #3B4455;\n",
              "      fill: #D2E3FC;\n",
              "    }\n",
              "\n",
              "    [theme=dark] .colab-df-convert:hover {\n",
              "      background-color: #434B5C;\n",
              "      box-shadow: 0px 1px 3px 1px rgba(0, 0, 0, 0.15);\n",
              "      filter: drop-shadow(0px 1px 2px rgba(0, 0, 0, 0.3));\n",
              "      fill: #FFFFFF;\n",
              "    }\n",
              "  </style>\n",
              "\n",
              "      <script>\n",
              "        const buttonEl =\n",
              "          document.querySelector('#df-18c810a9-9f6d-4f36-a80b-6aad72ec696e button.colab-df-convert');\n",
              "        buttonEl.style.display =\n",
              "          google.colab.kernel.accessAllowed ? 'block' : 'none';\n",
              "\n",
              "        async function convertToInteractive(key) {\n",
              "          const element = document.querySelector('#df-18c810a9-9f6d-4f36-a80b-6aad72ec696e');\n",
              "          const dataTable =\n",
              "            await google.colab.kernel.invokeFunction('convertToInteractive',\n",
              "                                                     [key], {});\n",
              "          if (!dataTable) return;\n",
              "\n",
              "          const docLinkHtml = 'Like what you see? Visit the ' +\n",
              "            '<a target=\"_blank\" href=https://colab.research.google.com/notebooks/data_table.ipynb>data table notebook</a>'\n",
              "            + ' to learn more about interactive tables.';\n",
              "          element.innerHTML = '';\n",
              "          dataTable['output_type'] = 'display_data';\n",
              "          await google.colab.output.renderOutput(dataTable, element);\n",
              "          const docLink = document.createElement('div');\n",
              "          docLink.innerHTML = docLinkHtml;\n",
              "          element.appendChild(docLink);\n",
              "        }\n",
              "      </script>\n",
              "    </div>\n",
              "  </div>\n",
              "  "
            ]
          },
          "metadata": {},
          "execution_count": 92
        }
      ]
    },
    {
      "cell_type": "code",
      "source": [
        "X_train_rescaled.shape"
      ],
      "metadata": {
        "id": "bRXUgR9pxiq2",
        "colab": {
          "base_uri": "https://localhost:8080/"
        },
        "outputId": "cb7d1e14-6cb6-40d5-bec7-a71a6260a638"
      },
      "execution_count": 93,
      "outputs": [
        {
          "output_type": "execute_result",
          "data": {
            "text/plain": [
              "(1077024, 14)"
            ]
          },
          "metadata": {},
          "execution_count": 93
        }
      ]
    },
    {
      "cell_type": "code",
      "source": [
        "# Split train_data\n",
        "from sklearn.model_selection import train_test_split\n",
        "\n",
        "X_Train, X_val, y_Train, y_val = train_test_split(X_train_rescaled, y_train, stratify = y_train, test_size = 0.5, random_state=1)"
      ],
      "metadata": {
        "id": "T3FEpqeRxlgW"
      },
      "execution_count": 94,
      "outputs": []
    },
    {
      "cell_type": "code",
      "source": [
        "from sklearn.metrics import confusion_matrix, accuracy_score\n",
        "from xgboost import XGBClassifier\n",
        "# fit and Evaluate model\n",
        "\n",
        "my_model = XGBClassifier()\n",
        "my_model.fit(X_Train, y_Train)\n",
        "y_pred = my_model.predict(X_val)\n",
        "\n",
        "# Get error rate\n",
        "print(\"Error rate of Random Forest classifier: \", 1 - accuracy_score(y_val, y_pred))\n",
        "\n",
        "# Get confusion matrix\n",
        "confusion_matrix(y_pred, y_val)"
      ],
      "metadata": {
        "id": "GQ98dMLuzJyS",
        "colab": {
          "base_uri": "https://localhost:8080/"
        },
        "outputId": "e235a026-d613-42ca-9866-966346c51107"
      },
      "execution_count": 95,
      "outputs": [
        {
          "output_type": "stream",
          "name": "stdout",
          "text": [
            "Error rate of Random Forest classifier:  0.13522632736132156\n"
          ]
        },
        {
          "output_type": "execute_result",
          "data": {
            "text/plain": [
              "array([[409120,  44426],\n",
              "       [ 28395,  56571]])"
            ]
          },
          "metadata": {},
          "execution_count": 95
        }
      ]
    },
    {
      "cell_type": "code",
      "source": [
        "# # # Print default setting\n",
        "# my_model.get_params()"
      ],
      "metadata": {
        "id": "HhKGjm6pDgl5"
      },
      "execution_count": 96,
      "outputs": []
    },
    {
      "cell_type": "code",
      "source": [
        "# Get the predicted result for the test Data\n",
        "test_data.CHURN = my_model.predict(X_test_rescaled)"
      ],
      "metadata": {
        "id": "JDRjZ1uiwA0a",
        "colab": {
          "base_uri": "https://localhost:8080/"
        },
        "outputId": "ffdcbec8-4eba-456b-a112-24ae53046744"
      },
      "execution_count": 97,
      "outputs": [
        {
          "output_type": "stream",
          "name": "stderr",
          "text": [
            "<ipython-input-97-2c4b5e97077d>:2: UserWarning: Pandas doesn't allow columns to be created via a new attribute name - see https://pandas.pydata.org/pandas-docs/stable/indexing.html#attribute-access\n",
            "  test_data.CHURN = my_model.predict(X_test_rescaled)\n"
          ]
        }
      ]
    },
    {
      "cell_type": "code",
      "source": [
        "# create submission DataFrame\n",
        "submission_df3 = pd.DataFrame({\"user_id\": test_data[\"user_id\"], \"CHURN\": test_data.CHURN})"
      ],
      "metadata": {
        "id": "gFKjlQE5wyWC"
      },
      "execution_count": 98,
      "outputs": []
    },
    {
      "cell_type": "code",
      "source": [
        "submission_df3.head()"
      ],
      "metadata": {
        "id": "FB0zaChZxCpq",
        "colab": {
          "base_uri": "https://localhost:8080/",
          "height": 206
        },
        "outputId": "fc4109c6-63dc-4fdf-98fb-ad441f04a4f8"
      },
      "execution_count": 99,
      "outputs": [
        {
          "output_type": "execute_result",
          "data": {
            "text/plain": [
              "                                    user_id  CHURN\n",
              "0  51fe4c3347db1f8571d18ac03f716c41acee30a4      0\n",
              "1  5ad5d67c175bce107cc97b98c4e37dcc38aa7f3e      1\n",
              "2  5a4db591c953a8d8f373877fad37aaf4268899a1      0\n",
              "3  8bf9b4d8880aeba1c9a0da48be78f12e629be37c      1\n",
              "4  c7cdf2af01e9fa95bf498b68c122aa4b9a8d10df      0"
            ],
            "text/html": [
              "\n",
              "  <div id=\"df-5c09ff06-0e41-4136-b430-b5e6fe9d7e2a\">\n",
              "    <div class=\"colab-df-container\">\n",
              "      <div>\n",
              "<style scoped>\n",
              "    .dataframe tbody tr th:only-of-type {\n",
              "        vertical-align: middle;\n",
              "    }\n",
              "\n",
              "    .dataframe tbody tr th {\n",
              "        vertical-align: top;\n",
              "    }\n",
              "\n",
              "    .dataframe thead th {\n",
              "        text-align: right;\n",
              "    }\n",
              "</style>\n",
              "<table border=\"1\" class=\"dataframe\">\n",
              "  <thead>\n",
              "    <tr style=\"text-align: right;\">\n",
              "      <th></th>\n",
              "      <th>user_id</th>\n",
              "      <th>CHURN</th>\n",
              "    </tr>\n",
              "  </thead>\n",
              "  <tbody>\n",
              "    <tr>\n",
              "      <th>0</th>\n",
              "      <td>51fe4c3347db1f8571d18ac03f716c41acee30a4</td>\n",
              "      <td>0</td>\n",
              "    </tr>\n",
              "    <tr>\n",
              "      <th>1</th>\n",
              "      <td>5ad5d67c175bce107cc97b98c4e37dcc38aa7f3e</td>\n",
              "      <td>1</td>\n",
              "    </tr>\n",
              "    <tr>\n",
              "      <th>2</th>\n",
              "      <td>5a4db591c953a8d8f373877fad37aaf4268899a1</td>\n",
              "      <td>0</td>\n",
              "    </tr>\n",
              "    <tr>\n",
              "      <th>3</th>\n",
              "      <td>8bf9b4d8880aeba1c9a0da48be78f12e629be37c</td>\n",
              "      <td>1</td>\n",
              "    </tr>\n",
              "    <tr>\n",
              "      <th>4</th>\n",
              "      <td>c7cdf2af01e9fa95bf498b68c122aa4b9a8d10df</td>\n",
              "      <td>0</td>\n",
              "    </tr>\n",
              "  </tbody>\n",
              "</table>\n",
              "</div>\n",
              "      <button class=\"colab-df-convert\" onclick=\"convertToInteractive('df-5c09ff06-0e41-4136-b430-b5e6fe9d7e2a')\"\n",
              "              title=\"Convert this dataframe to an interactive table.\"\n",
              "              style=\"display:none;\">\n",
              "        \n",
              "  <svg xmlns=\"http://www.w3.org/2000/svg\" height=\"24px\"viewBox=\"0 0 24 24\"\n",
              "       width=\"24px\">\n",
              "    <path d=\"M0 0h24v24H0V0z\" fill=\"none\"/>\n",
              "    <path d=\"M18.56 5.44l.94 2.06.94-2.06 2.06-.94-2.06-.94-.94-2.06-.94 2.06-2.06.94zm-11 1L8.5 8.5l.94-2.06 2.06-.94-2.06-.94L8.5 2.5l-.94 2.06-2.06.94zm10 10l.94 2.06.94-2.06 2.06-.94-2.06-.94-.94-2.06-.94 2.06-2.06.94z\"/><path d=\"M17.41 7.96l-1.37-1.37c-.4-.4-.92-.59-1.43-.59-.52 0-1.04.2-1.43.59L10.3 9.45l-7.72 7.72c-.78.78-.78 2.05 0 2.83L4 21.41c.39.39.9.59 1.41.59.51 0 1.02-.2 1.41-.59l7.78-7.78 2.81-2.81c.8-.78.8-2.07 0-2.86zM5.41 20L4 18.59l7.72-7.72 1.47 1.35L5.41 20z\"/>\n",
              "  </svg>\n",
              "      </button>\n",
              "      \n",
              "  <style>\n",
              "    .colab-df-container {\n",
              "      display:flex;\n",
              "      flex-wrap:wrap;\n",
              "      gap: 12px;\n",
              "    }\n",
              "\n",
              "    .colab-df-convert {\n",
              "      background-color: #E8F0FE;\n",
              "      border: none;\n",
              "      border-radius: 50%;\n",
              "      cursor: pointer;\n",
              "      display: none;\n",
              "      fill: #1967D2;\n",
              "      height: 32px;\n",
              "      padding: 0 0 0 0;\n",
              "      width: 32px;\n",
              "    }\n",
              "\n",
              "    .colab-df-convert:hover {\n",
              "      background-color: #E2EBFA;\n",
              "      box-shadow: 0px 1px 2px rgba(60, 64, 67, 0.3), 0px 1px 3px 1px rgba(60, 64, 67, 0.15);\n",
              "      fill: #174EA6;\n",
              "    }\n",
              "\n",
              "    [theme=dark] .colab-df-convert {\n",
              "      background-color: #3B4455;\n",
              "      fill: #D2E3FC;\n",
              "    }\n",
              "\n",
              "    [theme=dark] .colab-df-convert:hover {\n",
              "      background-color: #434B5C;\n",
              "      box-shadow: 0px 1px 3px 1px rgba(0, 0, 0, 0.15);\n",
              "      filter: drop-shadow(0px 1px 2px rgba(0, 0, 0, 0.3));\n",
              "      fill: #FFFFFF;\n",
              "    }\n",
              "  </style>\n",
              "\n",
              "      <script>\n",
              "        const buttonEl =\n",
              "          document.querySelector('#df-5c09ff06-0e41-4136-b430-b5e6fe9d7e2a button.colab-df-convert');\n",
              "        buttonEl.style.display =\n",
              "          google.colab.kernel.accessAllowed ? 'block' : 'none';\n",
              "\n",
              "        async function convertToInteractive(key) {\n",
              "          const element = document.querySelector('#df-5c09ff06-0e41-4136-b430-b5e6fe9d7e2a');\n",
              "          const dataTable =\n",
              "            await google.colab.kernel.invokeFunction('convertToInteractive',\n",
              "                                                     [key], {});\n",
              "          if (!dataTable) return;\n",
              "\n",
              "          const docLinkHtml = 'Like what you see? Visit the ' +\n",
              "            '<a target=\"_blank\" href=https://colab.research.google.com/notebooks/data_table.ipynb>data table notebook</a>'\n",
              "            + ' to learn more about interactive tables.';\n",
              "          element.innerHTML = '';\n",
              "          dataTable['output_type'] = 'display_data';\n",
              "          await google.colab.output.renderOutput(dataTable, element);\n",
              "          const docLink = document.createElement('div');\n",
              "          docLink.innerHTML = docLinkHtml;\n",
              "          element.appendChild(docLink);\n",
              "        }\n",
              "      </script>\n",
              "    </div>\n",
              "  </div>\n",
              "  "
            ]
          },
          "metadata": {},
          "execution_count": 99
        }
      ]
    },
    {
      "cell_type": "code",
      "source": [
        "# Create submission csv file\n",
        "submission_df3.to_csv('SubFile_10.49am.csv', index = False)"
      ],
      "metadata": {
        "id": "DK9yT_yFxGIz"
      },
      "execution_count": 101,
      "outputs": []
    }
  ],
  "metadata": {
    "hide_input": false,
    "kernelspec": {
      "display_name": "Python 3",
      "language": "python",
      "name": "python3"
    },
    "language_info": {
      "codemirror_mode": {
        "name": "ipython",
        "version": 3
      },
      "file_extension": ".py",
      "mimetype": "text/x-python",
      "name": "python",
      "nbconvert_exporter": "python",
      "pygments_lexer": "ipython3",
      "version": "3.8.8"
    },
    "colab": {
      "provenance": []
    }
  },
  "nbformat": 4,
  "nbformat_minor": 0
}